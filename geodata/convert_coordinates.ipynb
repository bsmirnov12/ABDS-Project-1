{
 "cells": [
  {
   "cell_type": "code",
   "execution_count": null,
   "metadata": {},
   "outputs": [],
   "source": [
    "# UT-TOR-DATA-PT-01-2020-U-C Team project #1\n",
    "# (c) Boris Smirnov"
   ]
  },
  {
   "cell_type": "code",
   "execution_count": null,
   "metadata": {},
   "outputs": [],
   "source": [
    "# The module reads csv file with NAD83 Statistics Canada Lambert coordinates\n",
    "# and converts them into WGS 84 World Geodetic System 1984 (GPS) coordinates using epsg.io API\n",
    "# For details see:\n",
    "# https://en.wikipedia.org/wiki/EPSG_Geodetic_Parameter_Dataset\n",
    "# https://epsg.io/3347\n",
    "# https://epsg.io/4326\n",
    "# API Reference: https://github.com/maptiler/epsg.io\n",
    "\n",
    "import requests\n",
    "import json\n",
    "import csv\n",
    "import time\n",
    "\n",
    "# Coordinate system EPSG ids for coordinate transformation\n",
    "NAD83 = 3347 # used at Stats Canada\n",
    "WGS84 = 4326 # used with Google Maps\n",
    "\n",
    "url=f\"http://epsg.io/trans?s_srs={NAD83}&t_srs={WGS84}\"\n",
    "\n",
    "src_fname = 'lfed000a16g_e.csv'\n",
    "dst_fname = 'geodata.csv'\n",
    "\n",
    "src_file = open(src_fname, 'r', newline='', encoding='utf-8')\n",
    "src_csv = csv.reader(src_file, delimiter=',')\n",
    "\n",
    "# Special coordinates for the territories - they are so vast, that their calculated central points are far too off\n",
    "# from the rest of provinces. I manually chose coordinates close to their south border.\n",
    "territories = [60, 61, 62] # Yukon, NWT, Nunavut\n",
    "territory_capital = [(60.7428612, -135.1366892), (62.4539497, -114.3743066), (61.06516000, -97.48436700)]\n",
    "\n",
    "with open(dst_fname, 'w', newline='', encoding='utf-8') as dst_file:\n",
    "    dst_csv = csv.writer(dst_file, delimiter=',')\n",
    "\n",
    "    header = next(src_csv) # skip source header\n",
    "\n",
    "    # Write header\n",
    "    # Latitude is y coordinate (vertical, N), Longitude is x coordinate (horizontal, E)\n",
    "    dst_csv.writerow(['FED Id', 'FED Name', 'Province Id', 'Privince Name', 'Latitude', 'Longitude'])\n",
    "\n",
    "    for row in src_csv:\n",
    "\n",
    "        prov_id = int(row[2])\n",
    "        if prov_id in territories:\n",
    "            idx = prov_id - 60\n",
    "            lat, lon = territory_capital[idx]\n",
    "            dst_csv.writerow(row[0:4] + [lat, lon])\n",
    "            continue\n",
    "\n",
    "        coord_x = row[4]\n",
    "        coord_y = row[5]\n",
    "\n",
    "        pause = 10 # seconds. I don't know API's restrictions, but decided not to overload it. Had time, no hurry...\n",
    "        print(\"Query #{:03d}: {:d} sec pause \".format(src_csv.line_num - 1, pause), end='', flush=True)\n",
    "        for i in range(pause): time.sleep(1); print(\".\", end='', flush=True)\n",
    "        print(\" go!\", flush=True)\n",
    "                                                                \n",
    "        query = url + f\"&x={coord_x}&y={coord_y}\"\n",
    "        new_coords = requests.get(query).json()\n",
    "\n",
    "        dst_csv.writerow(row[0:4] + [new_coords['y'], new_coords['x']])"
   ]
  }
 ],
 "metadata": {
  "kernelspec": {
   "display_name": "Python [conda env:.conda-PythonData] *",
   "language": "python",
   "name": "conda-env-.conda-PythonData-py"
  },
  "language_info": {
   "codemirror_mode": {
    "name": "ipython",
    "version": 3
   },
   "file_extension": ".py",
   "mimetype": "text/x-python",
   "name": "python",
   "nbconvert_exporter": "python",
   "pygments_lexer": "ipython3",
   "version": "3.6.10"
  }
 },
 "nbformat": 4,
 "nbformat_minor": 4
}
