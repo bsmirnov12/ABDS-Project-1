{
 "cells": [
  {
   "cell_type": "code",
   "execution_count": null,
   "metadata": {},
   "outputs": [],
   "source": [
    "# UT-TOR-DATA-PT-01-2020-U-C Team project #1\n",
    "# (c) Boris Smirnov"
   ]
  },
  {
   "cell_type": "code",
   "execution_count": null,
   "metadata": {},
   "outputs": [],
   "source": [
    "# The module parces gml file with FED border coordinates, calculates centers of the FEDs\n",
    "# Exports data into csv file with original coordinate system\n",
    "\n",
    "import csv\n",
    "import xml.etree.ElementTree as et"
   ]
  },
  {
   "cell_type": "code",
   "execution_count": null,
   "metadata": {},
   "outputs": [],
   "source": [
    "# Function to parse the list of boundary coordinates and to find the central point of an area\n",
    "def find_center(pos_str):\n",
    " \n",
    "    coords = pos_str.split()\n",
    "    \n",
    "    max_x, max_y = 0.0, 0.0\n",
    "    min_x, min_y = 9999999.99999999, 9999999.99999999\n",
    "\n",
    "    for i in range(0, len(coords), 2):\n",
    "        coord_x = float(coords[i])\n",
    "        coord_y = float(coords[i+1])\n",
    "        \n",
    "        if coord_x > max_x:\n",
    "            max_x = coord_x\n",
    "        elif coord_x < min_x:\n",
    "            min_x = coord_x\n",
    "        \n",
    "        if coord_y > max_y:\n",
    "            max_y = coord_y\n",
    "        elif coord_y < min_y:\n",
    "            min_y = coord_y\n",
    "\n",
    "    avg_x = (max_x + min_x) / 2.0\n",
    "    avg_y = (max_y + min_y) / 2.0\n",
    "    return avg_x, avg_y"
   ]
  },
  {
   "cell_type": "code",
   "execution_count": null,
   "metadata": {},
   "outputs": [],
   "source": [
    "# Function that returns english part of a province's name\n",
    "# For unknown reason FEDs' french and english names present in separate fields,\n",
    "# but provinces' french and english names are in one string separated by '/'\n",
    "def province_en(str):\n",
    "    return str.split(' / ')[0]"
   ]
  },
  {
   "cell_type": "code",
   "execution_count": null,
   "metadata": {},
   "outputs": [],
   "source": [
    "# Global constants for dealing with XML tag names with namespace prefixes\n",
    "\n",
    "# Defining namespace prefixes for element names\n",
    "gml = '{http://www.opengis.net/gml}'\n",
    "fme = '{http://www.safe.com/gml/fme}'\n",
    "\n",
    "# Defining element names\n",
    "FED      = f\"{fme}lfed000a16g_e\"\n",
    "FED_ID   = f\"{fme}FEDUID\"\n",
    "FED_NAME = f\"{fme}FEDENAME\"\n",
    "PR_ID    = f\"{fme}PRUID\"\n",
    "PR_NAME  = f\"{fme}PRNAME\"\n",
    "POS_LIST = f\"{gml}posList\""
   ]
  },
  {
   "cell_type": "code",
   "execution_count": null,
   "metadata": {},
   "outputs": [],
   "source": [
    "tree = et.parse('lfed000a16g_e.gml')\n",
    "root = tree.getroot()\n",
    "\n",
    "# Output file\n",
    "csv_fname = 'lfed000a16g_e.csv'\n",
    "\n",
    "with open(csv_fname, 'w', newline='', encoding='utf-8') as csvfile: \n",
    "\n",
    "    # Initialize csv.writer\n",
    "    csvwriter = csv.writer(csvfile, delimiter=',')\n",
    "\n",
    "    # Write column headers\n",
    "    csvwriter.writerow(['FED Id', 'FED Name', 'Province Id', 'Privince Name', 'x', 'y'])\n",
    "\n",
    "    for district in root.iter(FED):\n",
    "        fed_id   = int(district.find(FED_ID).text)\n",
    "        fed_name = district.find(FED_NAME).text\n",
    "        pr_id    = int(district.find(PR_ID).text)\n",
    "        pr_name  = province_en(district.find(PR_NAME).text)\n",
    "        pos_list = district.find(f\".//{POS_LIST}\") # XPath address for an element {POS_LIST} somewhere down the DOM tree \n",
    "        center_x, center_y = find_center(pos_list.text)\n",
    "        print(fed_id, fed_name, pr_id, pr_name, center_x, center_y)\n",
    "        csvwriter.writerow([fed_id, fed_name, pr_id, pr_name, \"{:.8f}\".format(center_x), \"{:.8f}\".format(center_y)])"
   ]
  }
 ],
 "metadata": {
  "kernelspec": {
   "display_name": "Python [conda env:.conda-PythonData] *",
   "language": "python",
   "name": "conda-env-.conda-PythonData-py"
  },
  "language_info": {
   "codemirror_mode": {
    "name": "ipython",
    "version": 3
   },
   "file_extension": ".py",
   "mimetype": "text/x-python",
   "name": "python",
   "nbconvert_exporter": "python",
   "pygments_lexer": "ipython3",
   "version": "3.6.10"
  }
 },
 "nbformat": 4,
 "nbformat_minor": 4
}
