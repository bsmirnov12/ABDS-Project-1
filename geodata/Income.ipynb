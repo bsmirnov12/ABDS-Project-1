{
 "cells": [
  {
   "cell_type": "markdown",
   "metadata": {},
   "source": [
    "# The map of Taxable Income per Riding for 2015 elections\n",
    "\n",
    "Legend:\n",
    "\n",
    "* Red - Liberal Party of Canada\n",
    "\n",
    "* Blue - Conservative Party of Canada\n",
    "\n",
    "* Orange - New Democratic Party\n",
    "\n",
    "* Light Blue - Bloc Québécois\n",
    "\n",
    "* Green  - Green Party of Canada\n",
    "\n",
    "The relative size of the circle corresponds to the absolute amount of Taxable Income for a Riding."
   ]
  },
  {
   "cell_type": "code",
   "execution_count": 1,
   "metadata": {},
   "outputs": [],
   "source": [
    "# Dependencies and initialization\n",
    "import gmaps\n",
    "import pandas as pd\n",
    "\n",
    "# Google developer API key\n",
    "from api_keys import g_key\n",
    "\n",
    "# Data sources\n",
    "geodata_csv = 'geodata.csv' # FED Coordinates (key: 'FED Id')\n",
    "parties_csv = '../data/winning_parties_2015.csv' # List of winning parties (key: 'Custom Name')\n",
    "results_csv = '../data/final_elected.csv' # List of election results by FED (keys: 'FED ID', 'Party Won')\n",
    "income_csv = '../data/income.csv' # FED Income Data (key: 'FED ID')"
   ]
  },
  {
   "cell_type": "markdown",
   "metadata": {},
   "source": [
    "# Conclusions\n",
    "\n",
    "Here are some conclusions, that one could make after a glance on the map:\n",
    "\n",
    "1. \"Red\" centers of large agglomerations: Toronto, Montreal, Ottawa, Vancouver, Calgary. Might correlate with very high property prices and property taxes (https://www.livingin-canada.com/house-prices-canada.html). Also there might be a correlation with a demographic shift towards elder population, who purchased property in these areas many years ago in different economy.\n",
    "\n",
    "Ontario | Montreal\n",
    "------- | --------\n",
    "![Ontario](Income_Ontario.png)|![Montreal](Income_Montreal.png)\n",
    "\n",
    "2. In support of high property prices theory let's check out Vancouver area. Their support for NDP is third (percentwise) after NWT and Nunavut. Combined with the Liberals they overcome Conservatives 2-by-1. This might indicate general discontent of social inequality by downtown residents.\n",
    "\n",
    "Vancouver | Alberta\n",
    "--------- | --------\n",
    "![Vancouver](Income_Vancouver.png)|![Alberta](Income_Alberta.png)\n",
    "\n",
    "3. The opposite example that proves the point is the province of Alberta with it's natural resources and the highest GDP per capita in Canada (https://en.wikipedia.org/wiki/Alberta#Economy). 59.6% votes in favour of the Conservatives vs. 36.1% for Liberals and NDP, practically 2-by-1, diametrally opposed picture compared to BC. Though, central ridings of Edmonton and Calgary are Red and Orange.\n",
    "\n",
    "4. Separatist sentiments are clearly seen near Montreal, the only ridings where Bloc Québécois won elections.\n",
    "\n",
    "5. NDP support in Windsor area (ON) might indicate depressive economy.\n"
   ]
  },
  {
   "cell_type": "code",
   "execution_count": 2,
   "metadata": {},
   "outputs": [
    {
     "data": {
      "text/plain": [
       "Prov/Terr         338\n",
       "FED ID            338\n",
       "Total             338\n",
       "Taxable Income    338\n",
       "dtype: int64"
      ]
     },
     "execution_count": 2,
     "metadata": {},
     "output_type": "execute_result"
    }
   ],
   "source": [
    "# Read data\n",
    "geodata_df = pd.read_csv(geodata_csv).loc[:, ['FED Id', 'FED Name', 'Latitude', 'Longitude']]\n",
    "parties_df = pd.read_csv(parties_csv).loc[:, ['Id', 'Custom Name']]\n",
    "results_df = pd.read_csv(results_csv).loc[:, ['FED ID', 'Party Won']]\n",
    "income_df = pd.read_csv(income_csv, encoding='windows-1252').loc[:, ['Prov/Terr', 'FED ID', 'Total', 'Taxable Income']]\n",
    "income_df = income_df[income_df['Prov/Terr'] != 'TOTAL']\n",
    "income_df.count()"
   ]
  },
  {
   "cell_type": "code",
   "execution_count": 3,
   "metadata": {},
   "outputs": [],
   "source": [
    "# Some useful functions\n",
    "\n",
    "# From the pd.Series s with numeric values calculate scale for each point\n",
    "def make_scale_list(s, bin_count=10):\n",
    "    interval_index = pd.interval_range(start=s.min() * 0.999, end=s.max(), periods=bin_count)\n",
    "    return [1 + 1 * int(interval_index.get_loc(val)) for val in s]\n",
    "\n",
    "# From pd.Series s with Party Ids make a list of party colors\n",
    "def make_color_list(s):\n",
    "    # Source: https://www.rapidtables.com/web/color/RGB_Color.html\n",
    "    c_blue      = (51, 51, 255)\n",
    "    c_lightblue = (51, 153, 255)\n",
    "    c_green     = (0, 204, 0)\n",
    "    c_orange    = (255, 165, 0)\n",
    "    c_red       = (255, 0, 0)\n",
    "\n",
    "    # Source: https://en.wikipedia.org/wiki/Political_colour\n",
    "    party_colors = {\n",
    "        'CPC': c_blue,\n",
    "        'BC' : c_lightblue,\n",
    "        'GRN': c_green,\n",
    "        'NDP': c_orange,\n",
    "        'LIB': c_red\n",
    "    }\n",
    "\n",
    "    return s.map(lambda id: party_colors[id]).tolist()"
   ]
  },
  {
   "cell_type": "code",
   "execution_count": 4,
   "metadata": {},
   "outputs": [
    {
     "data": {
      "text/html": [
       "<div>\n",
       "<style scoped>\n",
       "    .dataframe tbody tr th:only-of-type {\n",
       "        vertical-align: middle;\n",
       "    }\n",
       "\n",
       "    .dataframe tbody tr th {\n",
       "        vertical-align: top;\n",
       "    }\n",
       "\n",
       "    .dataframe thead th {\n",
       "        text-align: right;\n",
       "    }\n",
       "</style>\n",
       "<table border=\"1\" class=\"dataframe\">\n",
       "  <thead>\n",
       "    <tr style=\"text-align: right;\">\n",
       "      <th></th>\n",
       "      <th>FED Id</th>\n",
       "      <th>FED Name</th>\n",
       "      <th>Latitude</th>\n",
       "      <th>Longitude</th>\n",
       "      <th>Party Won</th>\n",
       "      <th>Party Id</th>\n",
       "      <th>Total</th>\n",
       "      <th>Taxable Income</th>\n",
       "    </tr>\n",
       "  </thead>\n",
       "  <tbody>\n",
       "    <tr>\n",
       "      <th>0</th>\n",
       "      <td>11001</td>\n",
       "      <td>Cardigan</td>\n",
       "      <td>46.251413</td>\n",
       "      <td>-62.652435</td>\n",
       "      <td>Liberal</td>\n",
       "      <td>LIB</td>\n",
       "      <td>29970</td>\n",
       "      <td>1.103647e+09</td>\n",
       "    </tr>\n",
       "    <tr>\n",
       "      <th>1</th>\n",
       "      <td>11002</td>\n",
       "      <td>Charlottetown</td>\n",
       "      <td>46.267987</td>\n",
       "      <td>-63.143870</td>\n",
       "      <td>Liberal</td>\n",
       "      <td>LIB</td>\n",
       "      <td>29650</td>\n",
       "      <td>1.060050e+09</td>\n",
       "    </tr>\n",
       "    <tr>\n",
       "      <th>2</th>\n",
       "      <td>24056</td>\n",
       "      <td>Pierrefonds--Dollard</td>\n",
       "      <td>45.491925</td>\n",
       "      <td>-73.855406</td>\n",
       "      <td>Liberal</td>\n",
       "      <td>LIB</td>\n",
       "      <td>86110</td>\n",
       "      <td>3.461175e+09</td>\n",
       "    </tr>\n",
       "    <tr>\n",
       "      <th>3</th>\n",
       "      <td>24057</td>\n",
       "      <td>Pontiac</td>\n",
       "      <td>46.760139</td>\n",
       "      <td>-76.594503</td>\n",
       "      <td>Liberal</td>\n",
       "      <td>LIB</td>\n",
       "      <td>88560</td>\n",
       "      <td>3.672320e+09</td>\n",
       "    </tr>\n",
       "    <tr>\n",
       "      <th>4</th>\n",
       "      <td>24058</td>\n",
       "      <td>Portneuf--Jacques-Cartier</td>\n",
       "      <td>47.137004</td>\n",
       "      <td>-71.836506</td>\n",
       "      <td>Conservative</td>\n",
       "      <td>CPC</td>\n",
       "      <td>92380</td>\n",
       "      <td>3.892539e+09</td>\n",
       "    </tr>\n",
       "  </tbody>\n",
       "</table>\n",
       "</div>"
      ],
      "text/plain": [
       "   FED Id                   FED Name   Latitude  Longitude     Party Won  \\\n",
       "0   11001                   Cardigan  46.251413 -62.652435       Liberal   \n",
       "1   11002              Charlottetown  46.267987 -63.143870       Liberal   \n",
       "2   24056       Pierrefonds--Dollard  45.491925 -73.855406       Liberal   \n",
       "3   24057                    Pontiac  46.760139 -76.594503       Liberal   \n",
       "4   24058  Portneuf--Jacques-Cartier  47.137004 -71.836506  Conservative   \n",
       "\n",
       "  Party Id  Total  Taxable Income  \n",
       "0      LIB  29970    1.103647e+09  \n",
       "1      LIB  29650    1.060050e+09  \n",
       "2      LIB  86110    3.461175e+09  \n",
       "3      LIB  88560    3.672320e+09  \n",
       "4      CPC  92380    3.892539e+09  "
      ]
     },
     "execution_count": 4,
     "metadata": {},
     "output_type": "execute_result"
    }
   ],
   "source": [
    "# Create data set\n",
    "\n",
    "df = pd.merge(geodata_df, results_df, how='left', left_on='FED Id', right_on='FED ID')\n",
    "df = pd.merge(df, parties_df, how='left', left_on='Party Won', right_on='Custom Name')\n",
    "df = pd.merge(df, income_df, how='left', left_on='FED Id', right_on='FED ID')\n",
    "df.drop(columns=['FED ID_x', 'FED ID_y', 'Custom Name', 'Prov/Terr'], inplace=True)\n",
    "df.rename(columns={'Id': 'Party Id'}, inplace=True)\n",
    "#df = df[df['Party Id'] == 'NDP'] # Filter for testing\n",
    "df.head()"
   ]
  },
  {
   "cell_type": "code",
   "execution_count": 5,
   "metadata": {},
   "outputs": [
    {
     "data": {
      "application/vnd.jupyter.widget-view+json": {
       "model_id": "86afe46000dd4005bb56a83bb81a5387",
       "version_major": 2,
       "version_minor": 0
      },
      "text/plain": [
       "Figure(layout=FigureLayout(border='1px solid black', height='675px', margin='0 auto 0 auto', padding='1px', wi…"
      ]
     },
     "metadata": {},
     "output_type": "display_data"
    }
   ],
   "source": [
    "# Access maps with unique API key\n",
    "gmaps.configure(api_key=g_key)\n",
    "\n",
    "# Customize the size of the figure\n",
    "figure_layout = {\n",
    "    'width': '900px',\n",
    "    'height': '675px',\n",
    "    'border': '1px solid black',\n",
    "    'padding': '1px',\n",
    "    'margin': '0 auto 0 auto'\n",
    "}\n",
    "center=(43.6551165, -79.3869946) # Downtown Toronto\n",
    "\n",
    "fig = gmaps.figure(layout=figure_layout, center=center, zoom_level=8)\n",
    "\n",
    "# FED central points\n",
    "locations = df[['Latitude', 'Longitude']]\n",
    "hover_text = df['FED Name'].tolist()\n",
    "fill_color = make_color_list(df['Party Id'])\n",
    "stroke_color = fill_color\n",
    "scale = make_scale_list(df.iloc[:, -1])\n",
    "\n",
    "data_layer = gmaps.symbol_layer(\n",
    "    locations, # hover_text=\"hover_text\", - doesn't work :(\n",
    "    fill_color=fill_color, stroke_color=stroke_color,\n",
    "    scale=scale\n",
    ")\n",
    "\n",
    "# Add the layer to the map\n",
    "fig.add_layer(data_layer)\n",
    "\n",
    "# Display\n",
    "fig"
   ]
  },
  {
   "cell_type": "code",
   "execution_count": null,
   "metadata": {},
   "outputs": [],
   "source": []
  }
 ],
 "metadata": {
  "kernelspec": {
   "display_name": "Python [conda env:.conda-PythonData] *",
   "language": "python",
   "name": "conda-env-.conda-PythonData-py"
  },
  "language_info": {
   "codemirror_mode": {
    "name": "ipython",
    "version": 3
   },
   "file_extension": ".py",
   "mimetype": "text/x-python",
   "name": "python",
   "nbconvert_exporter": "python",
   "pygments_lexer": "ipython3",
   "version": "3.6.10"
  }
 },
 "nbformat": 4,
 "nbformat_minor": 4
}
