{
 "cells": [
  {
   "cell_type": "markdown",
   "metadata": {},
   "source": [
    "## Plots"
   ]
  },
  {
   "cell_type": "code",
   "execution_count": 1,
   "metadata": {},
   "outputs": [],
   "source": [
    "import csv\n",
    "import pandas as pd\n",
    "import os\n",
    "import matplotlib\n",
    "import matplotlib.pyplot as plt\n",
    "import numpy as np"
   ]
  },
  {
   "cell_type": "code",
   "execution_count": 2,
   "metadata": {},
   "outputs": [
    {
     "data": {
      "text/html": [
       "<div>\n",
       "<style scoped>\n",
       "    .dataframe tbody tr th:only-of-type {\n",
       "        vertical-align: middle;\n",
       "    }\n",
       "\n",
       "    .dataframe tbody tr th {\n",
       "        vertical-align: top;\n",
       "    }\n",
       "\n",
       "    .dataframe thead th {\n",
       "        text-align: right;\n",
       "    }\n",
       "</style>\n",
       "<table border=\"1\" class=\"dataframe\">\n",
       "  <thead>\n",
       "    <tr style=\"text-align: right;\">\n",
       "      <th></th>\n",
       "      <th>Total Male</th>\n",
       "      <th>Total Female</th>\n",
       "    </tr>\n",
       "    <tr>\n",
       "      <th>Province</th>\n",
       "      <th></th>\n",
       "      <th></th>\n",
       "    </tr>\n",
       "  </thead>\n",
       "  <tbody>\n",
       "    <tr>\n",
       "      <td>Alberta</td>\n",
       "      <td>1535610</td>\n",
       "      <td>1563590</td>\n",
       "    </tr>\n",
       "    <tr>\n",
       "      <td>British Columba</td>\n",
       "      <td>1832440</td>\n",
       "      <td>1957820</td>\n",
       "    </tr>\n",
       "    <tr>\n",
       "      <td>Manitoba</td>\n",
       "      <td>480880</td>\n",
       "      <td>504310</td>\n",
       "    </tr>\n",
       "    <tr>\n",
       "      <td>New Brunswick/Nouveau-Brunswick</td>\n",
       "      <td>298700</td>\n",
       "      <td>316650</td>\n",
       "    </tr>\n",
       "    <tr>\n",
       "      <td>Newfoundland and Labrador</td>\n",
       "      <td>211340</td>\n",
       "      <td>221770</td>\n",
       "    </tr>\n",
       "    <tr>\n",
       "      <td>Northwest Territories</td>\n",
       "      <td>16310</td>\n",
       "      <td>15570</td>\n",
       "    </tr>\n",
       "    <tr>\n",
       "      <td>Nova Scotia</td>\n",
       "      <td>360920</td>\n",
       "      <td>392490</td>\n",
       "    </tr>\n",
       "    <tr>\n",
       "      <td>Nunavut</td>\n",
       "      <td>10780</td>\n",
       "      <td>10660</td>\n",
       "    </tr>\n",
       "    <tr>\n",
       "      <td>Ontario</td>\n",
       "      <td>5141290</td>\n",
       "      <td>5538690</td>\n",
       "    </tr>\n",
       "    <tr>\n",
       "      <td>Prince Edward Island</td>\n",
       "      <td>56710</td>\n",
       "      <td>61120</td>\n",
       "    </tr>\n",
       "    <tr>\n",
       "      <td>Quebec</td>\n",
       "      <td>3201020</td>\n",
       "      <td>3372080</td>\n",
       "    </tr>\n",
       "    <tr>\n",
       "      <td>Saskatchewan</td>\n",
       "      <td>417240</td>\n",
       "      <td>431250</td>\n",
       "    </tr>\n",
       "    <tr>\n",
       "      <td>Yukon</td>\n",
       "      <td>14260</td>\n",
       "      <td>14450</td>\n",
       "    </tr>\n",
       "  </tbody>\n",
       "</table>\n",
       "</div>"
      ],
      "text/plain": [
       "                                 Total Male  Total Female\n",
       "Province                                                 \n",
       "Alberta                             1535610       1563590\n",
       "British Columba                     1832440       1957820\n",
       "Manitoba                             480880        504310\n",
       "New Brunswick/Nouveau-Brunswick      298700        316650\n",
       "Newfoundland and Labrador            211340        221770\n",
       "Northwest Territories                 16310         15570\n",
       "Nova Scotia                          360920        392490\n",
       "Nunavut                               10780         10660\n",
       "Ontario                             5141290       5538690\n",
       "Prince Edward Island                  56710         61120\n",
       "Quebec                              3201020       3372080\n",
       "Saskatchewan                         417240        431250\n",
       "Yukon                                 14260         14450"
      ]
     },
     "execution_count": 2,
     "metadata": {},
     "output_type": "execute_result"
    }
   ],
   "source": [
    "gender_votes_data=\"data/gender_votes.csv\"\n",
    "gender_votes_df=pd.read_csv(gender_votes_data)\n",
    "gender_prov=gender_votes_df.groupby('Province')\n",
    "total_male=gender_prov['Total_x'].sum()\n",
    "total_female=gender_prov['Total_y'].sum()\n",
    "gender_votes_df\n",
    "sex_votes=pd.DataFrame({'Total Male':total_male,\n",
    "                        'Total Female':total_female,\n",
    "                             }\n",
    "                            )\n",
    "sex_votes"
   ]
  },
  {
   "cell_type": "code",
   "execution_count": 3,
   "metadata": {},
   "outputs": [
    {
     "data": {
      "image/png": "[encoded data removed]",
      "text/plain": [
       "<Figure size 432x288 with 1 Axes>"
      ]
     },
     "metadata": {
      "needs_background": "light"
     },
     "output_type": "display_data"
    },
    {
     "data": {
      "text/plain": [
       "<Figure size 288x288 with 0 Axes>"
      ]
     },
     "metadata": {},
     "output_type": "display_data"
    }
   ],
   "source": [
    "province = sex_votes.index.tolist()\n",
    "x = np.arange(len(province))  # the label locations\n",
    "width = 0.35  # the width of the bars\n",
    "\n",
    "fig, ax = plt.subplots()\n",
    "rects1 = ax.bar(x - width/2, total_male, width, label='Men')\n",
    "rects2 = ax.bar(x + width/2, total_female, width, label='Women')\n",
    "\n",
    "ax.set_ylabel('Count')\n",
    "ax.set_title('Votes by gender in each Province')\n",
    "ax.set_xticks(x)\n",
    "ax.set_xticklabels(province)\n",
    "ax.legend()\n",
    "\n",
    "plt.xticks(rotation=90)\n",
    "\n",
    "\n",
    "plt.figure(figsize=(4,4))\n",
    "\n",
    "plt.show()"
   ]
  },
  {
   "cell_type": "code",
   "execution_count": null,
   "metadata": {},
   "outputs": [],
   "source": []
  }
 ],
 "metadata": {
  "kernelspec": {
   "display_name": "Python 3",
   "language": "python",
   "name": "python3"
  },
  "language_info": {
   "codemirror_mode": {
    "name": "ipython",
    "version": 3
   },
   "file_extension": ".py",
   "mimetype": "text/x-python",
   "name": "python",
   "nbconvert_exporter": "python",
   "pygments_lexer": "ipython3",
   "version": "3.7.4"
  }
 },
 "nbformat": 4,
 "nbformat_minor": 2
}
