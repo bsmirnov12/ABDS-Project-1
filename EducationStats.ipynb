{
 "cells": [
  {
   "cell_type": "code",
   "execution_count": 3,
   "metadata": {},
   "outputs": [
    {
     "data": {
      "text/plain": [
       "0                     British Columba\n",
       "1                              Quebec\n",
       "2                              Quebec\n",
       "3     New Brunswick/Nouveau-Brunswick\n",
       "4                              Quebec\n",
       "5                             Ontario\n",
       "6                              Quebec\n",
       "7                             Ontario\n",
       "8                              Quebec\n",
       "9                             Ontario\n",
       "10          Newfoundland and Labrador\n",
       "11                             Quebec\n",
       "12                            Alberta\n",
       "13                            Ontario\n",
       "14                            Ontario\n",
       "15                            Alberta\n",
       "16                       Saskatchewan\n",
       "17                            Ontario\n",
       "18                            Ontario\n",
       "19                             Quebec\n",
       "20                             Quebec\n",
       "21                             Quebec\n",
       "22    New Brunswick/Nouveau-Brunswick\n",
       "23                             Quebec\n",
       "24                             Quebec\n",
       "25                             Quebec\n",
       "26                             Quebec\n",
       "27          Newfoundland and Labrador\n",
       "28                             Quebec\n",
       "29                            Alberta\n",
       "30                            Ontario\n",
       "31                            Ontario\n",
       "32                            Ontario\n",
       "33                            Ontario\n",
       "34                            Ontario\n",
       "35                           Manitoba\n",
       "36                            Ontario\n",
       "37                             Quebec\n",
       "38                             Quebec\n",
       "39                            Ontario\n",
       "40                            Ontario\n",
       "41                    British Columba\n",
       "42                    British Columba\n",
       "43                            Alberta\n",
       "44                            Alberta\n",
       "45                            Alberta\n",
       "46                            Alberta\n",
       "47                            Alberta\n",
       "48                            Alberta\n",
       "49                            Alberta\n",
       "Name: ï»¿Province, dtype: object"
      ]
     },
     "execution_count": 3,
     "metadata": {},
     "output_type": "execute_result"
    }
   ],
   "source": [
    "import warnings\n",
    "warnings.filterwarnings('ignore')\n",
    "import pandas as pd\n",
    "from matplotlib import pyplot as plt\n",
    "import scipy.stats as stats\n",
    "df = pd.read_csv(\"data/Education3.csv\")\n",
    "df[\"ï»¿Province\"].head(50)\n"
   ]
  },
  {
   "cell_type": "code",
   "execution_count": 4,
   "metadata": {},
   "outputs": [],
   "source": [
    "df['No Certificate'] = df['No Certificate'].astype(float)\n",
    "df['Secondary School Diploma'] = df['Secondary School Diploma'].astype(float)\n",
    "df['Non-university certificate or diploma'] = df['Non-university certificate or diploma'].astype(float)\n",
    "df['University level or above'] = df['University level or above'].astype(float)"
   ]
  },
  {
   "cell_type": "code",
   "execution_count": 5,
   "metadata": {},
   "outputs": [
    {
     "data": {
      "text/plain": [
       "Unnamed: 0                                 int64\n",
       "FED ID                                     int64\n",
       "Federal Electoral Districts_x             object\n",
       "xNo Certificate                          float64\n",
       "xSecondary School Diploma                float64\n",
       "xSecondary School Diploma.1              float64\n",
       "xUniversity level or above               float64\n",
       "ï»¿Province                               object\n",
       "Party Won                                 object\n",
       "No Certificate                           float64\n",
       "Secondary School Diploma                 float64\n",
       "Non-university certificate or diploma    float64\n",
       "University level or above                float64\n",
       "dtype: object"
      ]
     },
     "execution_count": 5,
     "metadata": {},
     "output_type": "execute_result"
    }
   ],
   "source": [
    "Liberal = df.loc[df[\"Party Won\"] == \"Liberal\"]\n",
    "Liberal.dtypes"
   ]
  },
  {
   "cell_type": "code",
   "execution_count": 6,
   "metadata": {},
   "outputs": [
    {
     "data": {
      "image/png": "[encoded data removed]",
      "text/plain": [
       "<Figure size 1368x216 with 1 Axes>"
      ]
     },
     "metadata": {
      "needs_background": "light"
     },
     "output_type": "display_data"
    }
   ],
   "source": [
    "fig, ax = plt.subplots(figsize=(19,3))\n",
    "\n",
    "box_plot_data=[Liberal[\"No Certificate\"], Liberal[\"Secondary School Diploma\"], \n",
    "                   Liberal[\"Non-university certificate or diploma\"], Liberal[\"University level or above\"]]\n",
    "\n",
    "x_label_list = [[\"No Certificate\"], [\"Secondary School Diploma\"], \n",
    "                   [\"Non-university certificate or diploma\"], [\"University level or above\"]]\n",
    "\n",
    "ax.set_xticklabels(x_label_list)\n",
    "c=\"red\"\n",
    "plt.boxplot(box_plot_data, notch=True, patch_artist=True,\n",
    "            boxprops=dict(facecolor=c, color=c),\n",
    "            capprops=dict(color=c),\n",
    "            whiskerprops=dict(color=c),\n",
    "            flierprops=dict(color=c, markeredgecolor=c),\n",
    "            medianprops=dict(color=c))\n",
    "#ax.set_xlabel = \"Age Groups\"\n",
    "#ax.set_ylabel = \"Number of Voters\"\n",
    "#ax.set_title = \"Liberal Ridings Analyzed by Age\"\n",
    "plt.xlabel(\"Age Groups\")\n",
    "plt.ylabel(\"Number of Voters\")\n",
    "plt.title(\"Liberal Ridings Analyzed by Age\")\n",
    "plt.savefig(\"./PNG_images_stats/Liberal_Education.png\")\n",
    "plt.show()"
   ]
  },
  {
   "cell_type": "code",
   "execution_count": 7,
   "metadata": {},
   "outputs": [
    {
     "data": {
      "text/plain": [
       "Unnamed: 0                                 int64\n",
       "FED ID                                     int64\n",
       "Federal Electoral Districts_x             object\n",
       "xNo Certificate                          float64\n",
       "xSecondary School Diploma                float64\n",
       "xSecondary School Diploma.1              float64\n",
       "xUniversity level or above               float64\n",
       "ï»¿Province                               object\n",
       "Party Won                                 object\n",
       "No Certificate                           float64\n",
       "Secondary School Diploma                 float64\n",
       "Non-university certificate or diploma    float64\n",
       "University level or above                float64\n",
       "dtype: object"
      ]
     },
     "execution_count": 7,
     "metadata": {},
     "output_type": "execute_result"
    }
   ],
   "source": [
    "Conservative = df.loc[df[\"Party Won\"] == \"Conservative\"]\n",
    "Conservative.dtypes"
   ]
  },
  {
   "cell_type": "code",
   "execution_count": 8,
   "metadata": {},
   "outputs": [
    {
     "data": {
      "image/png": "[encoded data removed]",
      "text/plain": [
       "<Figure size 1368x216 with 1 Axes>"
      ]
     },
     "metadata": {
      "needs_background": "light"
     },
     "output_type": "display_data"
    }
   ],
   "source": [
    "fig, ax = plt.subplots(figsize=(19,3))\n",
    "\n",
    "box_plot_data=[Conservative[\"No Certificate\"], Conservative[\"Secondary School Diploma\"], \n",
    "                   Conservative[\"Non-university certificate or diploma\"], Conservative[\"University level or above\"]]\n",
    "\n",
    "x_label_list = [[\"No Certificate\"], [\"Secondary School Diploma\"], \n",
    "                   [\"Non-university certificate or diploma\"], [\"University level or above\"]]\n",
    "\n",
    "ax.set_xticklabels(x_label_list)\n",
    "c=\"blue\"\n",
    "plt.boxplot(box_plot_data, notch=True, patch_artist=True,\n",
    "            boxprops=dict(facecolor=c, color=c),\n",
    "            capprops=dict(color=c),\n",
    "            whiskerprops=dict(color=c),\n",
    "            flierprops=dict(color=c, markeredgecolor=c),\n",
    "            medianprops=dict(color=c))\n",
    "#ax.set_xlabel = \"Age Groups\"\n",
    "#ax.set_ylabel = \"Number of Voters\"\n",
    "#ax.set_title = \"Liberal Ridings Analyzed by Age\"\n",
    "plt.xlabel(\"Age Groups\")\n",
    "plt.ylabel(\"Number of Voters\")\n",
    "plt.title(\"Conservative Ridings Analyzed by Age\")\n",
    "plt.savefig(\"./PNG_images_stats/Conservative_Education.png\")\n",
    "plt.show()"
   ]
  },
  {
   "cell_type": "code",
   "execution_count": 9,
   "metadata": {},
   "outputs": [
    {
     "data": {
      "text/plain": [
       "Unnamed: 0                                 int64\n",
       "FED ID                                     int64\n",
       "Federal Electoral Districts_x             object\n",
       "xNo Certificate                          float64\n",
       "xSecondary School Diploma                float64\n",
       "xSecondary School Diploma.1              float64\n",
       "xUniversity level or above               float64\n",
       "ï»¿Province                               object\n",
       "Party Won                                 object\n",
       "No Certificate                           float64\n",
       "Secondary School Diploma                 float64\n",
       "Non-university certificate or diploma    float64\n",
       "University level or above                float64\n",
       "dtype: object"
      ]
     },
     "execution_count": 9,
     "metadata": {},
     "output_type": "execute_result"
    }
   ],
   "source": [
    "NDP= df.loc[df[\"Party Won\"] == \"NDP\"]\n",
    "NDP.dtypes"
   ]
  },
  {
   "cell_type": "code",
   "execution_count": 10,
   "metadata": {},
   "outputs": [
    {
     "data": {
      "image/png": "[encoded data removed]",
      "text/plain": [
       "<Figure size 1368x216 with 1 Axes>"
      ]
     },
     "metadata": {
      "needs_background": "light"
     },
     "output_type": "display_data"
    }
   ],
   "source": [
    "fig, ax = plt.subplots(figsize=(19,3))\n",
    "\n",
    "box_plot_data=[NDP[\"No Certificate\"], NDP[\"Secondary School Diploma\"], \n",
    "                   NDP[\"Non-university certificate or diploma\"], NDP[\"University level or above\"]]\n",
    "\n",
    "x_label_list = [[\"No Certificate\"], [\"Secondary School Diploma\"], \n",
    "                   [\"Non-university certificate or diploma\"], [\"University level or above\"]]\n",
    "\n",
    "ax.set_xticklabels(x_label_list)\n",
    "c=\"orange\"\n",
    "plt.boxplot(box_plot_data, notch=True, patch_artist=True,\n",
    "            boxprops=dict(facecolor=c, color=c),\n",
    "            capprops=dict(color=c),\n",
    "            whiskerprops=dict(color=c),\n",
    "            flierprops=dict(color=c, markeredgecolor=c),\n",
    "            medianprops=dict(color=c))\n",
    "#ax.set_xlabel = \"Age Groups\"\n",
    "#ax.set_ylabel = \"Number of Voters\"\n",
    "#ax.set_title = \"Liberal Ridings Analyzed by Age\"\n",
    "plt.xlabel(\"Age Groups\")\n",
    "plt.ylabel(\"Number of Voters\")\n",
    "plt.title(\"NDP Ridings Analyzed by Age\")\n",
    "plt.savefig(\"./PNG_images_stats/NDP_Education.png\")\n",
    "plt.show()"
   ]
  },
  {
   "cell_type": "code",
   "execution_count": 11,
   "metadata": {
    "scrolled": true
   },
   "outputs": [
    {
     "data": {
      "text/html": [
       "<div>\n",
       "<style scoped>\n",
       "    .dataframe tbody tr th:only-of-type {\n",
       "        vertical-align: middle;\n",
       "    }\n",
       "\n",
       "    .dataframe tbody tr th {\n",
       "        vertical-align: top;\n",
       "    }\n",
       "\n",
       "    .dataframe thead th {\n",
       "        text-align: right;\n",
       "    }\n",
       "</style>\n",
       "<table border=\"1\" class=\"dataframe\">\n",
       "  <thead>\n",
       "    <tr style=\"text-align: right;\">\n",
       "      <th></th>\n",
       "      <th>Unnamed: 0</th>\n",
       "      <th>FED ID</th>\n",
       "      <th>Federal Electoral Districts_x</th>\n",
       "      <th>xNo Certificate</th>\n",
       "      <th>xSecondary School Diploma</th>\n",
       "      <th>xSecondary School Diploma.1</th>\n",
       "      <th>xUniversity level or above</th>\n",
       "      <th>ï»¿Province</th>\n",
       "      <th>Party Won</th>\n",
       "      <th>No Certificate</th>\n",
       "      <th>Secondary School Diploma</th>\n",
       "      <th>Non-university certificate or diploma</th>\n",
       "      <th>University level or above</th>\n",
       "    </tr>\n",
       "  </thead>\n",
       "  <tbody>\n",
       "    <tr>\n",
       "      <th>23</th>\n",
       "      <td>23</td>\n",
       "      <td>24009</td>\n",
       "      <td>BÃ©cancour--Nicolet--Saurel</td>\n",
       "      <td>0.32</td>\n",
       "      <td>0.27</td>\n",
       "      <td>0.25</td>\n",
       "      <td>0.15</td>\n",
       "      <td>Quebec</td>\n",
       "      <td>Bloc QuÃ©bÃ©cois</td>\n",
       "      <td>32.0</td>\n",
       "      <td>27.0</td>\n",
       "      <td>25.0</td>\n",
       "      <td>15.0</td>\n",
       "    </tr>\n",
       "    <tr>\n",
       "      <th>131</th>\n",
       "      <td>131</td>\n",
       "      <td>24031</td>\n",
       "      <td>Joliette</td>\n",
       "      <td>0.32</td>\n",
       "      <td>0.31</td>\n",
       "      <td>0.21</td>\n",
       "      <td>0.16</td>\n",
       "      <td>Quebec</td>\n",
       "      <td>Bloc QuÃ©bÃ©cois</td>\n",
       "      <td>32.0</td>\n",
       "      <td>31.0</td>\n",
       "      <td>21.0</td>\n",
       "      <td>16.0</td>\n",
       "    </tr>\n",
       "    <tr>\n",
       "      <th>145</th>\n",
       "      <td>145</td>\n",
       "      <td>24033</td>\n",
       "      <td>La Pointe-de-l'ÃŽle</td>\n",
       "      <td>0.27</td>\n",
       "      <td>0.30</td>\n",
       "      <td>0.21</td>\n",
       "      <td>0.22</td>\n",
       "      <td>Quebec</td>\n",
       "      <td>Bloc QuÃ©bÃ©cois</td>\n",
       "      <td>27.0</td>\n",
       "      <td>30.0</td>\n",
       "      <td>21.0</td>\n",
       "      <td>22.0</td>\n",
       "    </tr>\n",
       "    <tr>\n",
       "      <th>171</th>\n",
       "      <td>171</td>\n",
       "      <td>24046</td>\n",
       "      <td>Manicouagan</td>\n",
       "      <td>0.37</td>\n",
       "      <td>0.26</td>\n",
       "      <td>0.23</td>\n",
       "      <td>0.14</td>\n",
       "      <td>Quebec</td>\n",
       "      <td>Bloc QuÃ©bÃ©cois</td>\n",
       "      <td>37.0</td>\n",
       "      <td>26.0</td>\n",
       "      <td>23.0</td>\n",
       "      <td>14.0</td>\n",
       "    </tr>\n",
       "    <tr>\n",
       "      <th>179</th>\n",
       "      <td>179</td>\n",
       "      <td>24048</td>\n",
       "      <td>Mirabel</td>\n",
       "      <td>0.27</td>\n",
       "      <td>0.30</td>\n",
       "      <td>0.26</td>\n",
       "      <td>0.17</td>\n",
       "      <td>Quebec</td>\n",
       "      <td>Bloc QuÃ©bÃ©cois</td>\n",
       "      <td>27.0</td>\n",
       "      <td>30.0</td>\n",
       "      <td>26.0</td>\n",
       "      <td>17.0</td>\n",
       "    </tr>\n",
       "    <tr>\n",
       "      <th>190</th>\n",
       "      <td>190</td>\n",
       "      <td>24050</td>\n",
       "      <td>Montcalm</td>\n",
       "      <td>0.34</td>\n",
       "      <td>0.30</td>\n",
       "      <td>0.23</td>\n",
       "      <td>0.13</td>\n",
       "      <td>Quebec</td>\n",
       "      <td>Bloc QuÃ©bÃ©cois</td>\n",
       "      <td>34.0</td>\n",
       "      <td>30.0</td>\n",
       "      <td>23.0</td>\n",
       "      <td>13.0</td>\n",
       "    </tr>\n",
       "    <tr>\n",
       "      <th>228</th>\n",
       "      <td>228</td>\n",
       "      <td>24014</td>\n",
       "      <td>Pitt Meadows--Maple Ridge</td>\n",
       "      <td>0.17</td>\n",
       "      <td>0.39</td>\n",
       "      <td>0.26</td>\n",
       "      <td>0.19</td>\n",
       "      <td>Quebec</td>\n",
       "      <td>Bloc QuÃ©bÃ©cois</td>\n",
       "      <td>17.0</td>\n",
       "      <td>39.0</td>\n",
       "      <td>26.0</td>\n",
       "      <td>19.0</td>\n",
       "    </tr>\n",
       "    <tr>\n",
       "      <th>245</th>\n",
       "      <td>245</td>\n",
       "      <td>24060</td>\n",
       "      <td>Richmond Hill</td>\n",
       "      <td>0.13</td>\n",
       "      <td>0.25</td>\n",
       "      <td>0.17</td>\n",
       "      <td>0.45</td>\n",
       "      <td>Quebec</td>\n",
       "      <td>Bloc QuÃ©bÃ©cois</td>\n",
       "      <td>13.0</td>\n",
       "      <td>25.0</td>\n",
       "      <td>17.0</td>\n",
       "      <td>45.0</td>\n",
       "    </tr>\n",
       "    <tr>\n",
       "      <th>251</th>\n",
       "      <td>251</td>\n",
       "      <td>24063</td>\n",
       "      <td>Saanich--Gulf Islands</td>\n",
       "      <td>0.12</td>\n",
       "      <td>0.32</td>\n",
       "      <td>0.21</td>\n",
       "      <td>0.35</td>\n",
       "      <td>Quebec</td>\n",
       "      <td>Bloc QuÃ©bÃ©cois</td>\n",
       "      <td>12.0</td>\n",
       "      <td>32.0</td>\n",
       "      <td>21.0</td>\n",
       "      <td>35.0</td>\n",
       "    </tr>\n",
       "    <tr>\n",
       "      <th>297</th>\n",
       "      <td>297</td>\n",
       "      <td>24075</td>\n",
       "      <td>Thornhill</td>\n",
       "      <td>0.11</td>\n",
       "      <td>0.24</td>\n",
       "      <td>0.18</td>\n",
       "      <td>0.47</td>\n",
       "      <td>Quebec</td>\n",
       "      <td>Bloc QuÃ©bÃ©cois</td>\n",
       "      <td>11.0</td>\n",
       "      <td>24.0</td>\n",
       "      <td>18.0</td>\n",
       "      <td>47.0</td>\n",
       "    </tr>\n",
       "  </tbody>\n",
       "</table>\n",
       "</div>"
      ],
      "text/plain": [
       "     Unnamed: 0  FED ID Federal Electoral Districts_x  xNo Certificate  \\\n",
       "23           23   24009   BÃ©cancour--Nicolet--Saurel             0.32   \n",
       "131         131   24031                      Joliette             0.32   \n",
       "145         145   24033           La Pointe-de-l'ÃŽle             0.27   \n",
       "171         171   24046                   Manicouagan             0.37   \n",
       "179         179   24048                       Mirabel             0.27   \n",
       "190         190   24050                      Montcalm             0.34   \n",
       "228         228   24014     Pitt Meadows--Maple Ridge             0.17   \n",
       "245         245   24060                 Richmond Hill             0.13   \n",
       "251         251   24063         Saanich--Gulf Islands             0.12   \n",
       "297         297   24075                     Thornhill             0.11   \n",
       "\n",
       "     xSecondary School Diploma  xSecondary School Diploma.1  \\\n",
       "23                        0.27                         0.25   \n",
       "131                       0.31                         0.21   \n",
       "145                       0.30                         0.21   \n",
       "171                       0.26                         0.23   \n",
       "179                       0.30                         0.26   \n",
       "190                       0.30                         0.23   \n",
       "228                       0.39                         0.26   \n",
       "245                       0.25                         0.17   \n",
       "251                       0.32                         0.21   \n",
       "297                       0.24                         0.18   \n",
       "\n",
       "     xUniversity level or above ï»¿Province         Party Won  No Certificate  \\\n",
       "23                         0.15      Quebec  Bloc QuÃ©bÃ©cois            32.0   \n",
       "131                        0.16      Quebec  Bloc QuÃ©bÃ©cois            32.0   \n",
       "145                        0.22      Quebec  Bloc QuÃ©bÃ©cois            27.0   \n",
       "171                        0.14      Quebec  Bloc QuÃ©bÃ©cois            37.0   \n",
       "179                        0.17      Quebec  Bloc QuÃ©bÃ©cois            27.0   \n",
       "190                        0.13      Quebec  Bloc QuÃ©bÃ©cois            34.0   \n",
       "228                        0.19      Quebec  Bloc QuÃ©bÃ©cois            17.0   \n",
       "245                        0.45      Quebec  Bloc QuÃ©bÃ©cois            13.0   \n",
       "251                        0.35      Quebec  Bloc QuÃ©bÃ©cois            12.0   \n",
       "297                        0.47      Quebec  Bloc QuÃ©bÃ©cois            11.0   \n",
       "\n",
       "     Secondary School Diploma  Non-university certificate or diploma  \\\n",
       "23                       27.0                                   25.0   \n",
       "131                      31.0                                   21.0   \n",
       "145                      30.0                                   21.0   \n",
       "171                      26.0                                   23.0   \n",
       "179                      30.0                                   26.0   \n",
       "190                      30.0                                   23.0   \n",
       "228                      39.0                                   26.0   \n",
       "245                      25.0                                   17.0   \n",
       "251                      32.0                                   21.0   \n",
       "297                      24.0                                   18.0   \n",
       "\n",
       "     University level or above  \n",
       "23                        15.0  \n",
       "131                       16.0  \n",
       "145                       22.0  \n",
       "171                       14.0  \n",
       "179                       17.0  \n",
       "190                       13.0  \n",
       "228                       19.0  \n",
       "245                       45.0  \n",
       "251                       35.0  \n",
       "297                       47.0  "
      ]
     },
     "execution_count": 11,
     "metadata": {},
     "output_type": "execute_result"
    }
   ],
   "source": [
    "Bloc= df.loc[df[\"Party Won\"] == \"Bloc QuÃ©bÃ©cois\"]\n",
    "Bloc"
   ]
  },
  {
   "cell_type": "code",
   "execution_count": 12,
   "metadata": {},
   "outputs": [
    {
     "data": {
      "image/png": "[encoded data removed]",
      "text/plain": [
       "<Figure size 1368x216 with 1 Axes>"
      ]
     },
     "metadata": {
      "needs_background": "light"
     },
     "output_type": "display_data"
    }
   ],
   "source": [
    "fig, ax = plt.subplots(figsize=(19,3))\n",
    "\n",
    "box_plot_data=[Bloc[\"No Certificate\"], Bloc[\"Secondary School Diploma\"], \n",
    "                   Bloc[\"Non-university certificate or diploma\"], Bloc[\"University level or above\"]]\n",
    "\n",
    "x_label_list = [[\"No Certificate\"], [\"Secondary School Diploma\"], \n",
    "                   [\"Non-university certificate or diploma\"], [\"University level or above\"]]\n",
    "\n",
    "ax.set_xticklabels(x_label_list)\n",
    "c=\"lightblue\"\n",
    "plt.boxplot(box_plot_data, notch=True, patch_artist=True,\n",
    "            boxprops=dict(facecolor=c, color=c),\n",
    "            capprops=dict(color=c),\n",
    "            whiskerprops=dict(color=c),\n",
    "            flierprops=dict(color=c, markeredgecolor=c),\n",
    "            medianprops=dict(color=c))\n",
    "\n",
    "#ax.set_xlabel = \"Age Groups\"\n",
    "#ax.set_ylabel = \"Number of Voters\"\n",
    "#ax.set_title = \"Liberal Ridings Analyzed by Age\"\n",
    "plt.xlabel(\"Age Groups\")\n",
    "plt.ylabel(\"Number of Voters\")\n",
    "plt.title(\"Bloc Ridings Analyzed by Age\")\n",
    "plt.savefig(\"./PNG_images_stats/Bloc_Education.png\")\n",
    "plt.show()"
   ]
  },
  {
   "cell_type": "code",
   "execution_count": 18,
   "metadata": {},
   "outputs": [
    {
     "data": {
      "image/png": "[encoded data removed]",
      "text/plain": [
       "<Figure size 1008x648 with 3 Axes>"
      ]
     },
     "metadata": {
      "needs_background": "light"
     },
     "output_type": "display_data"
    }
   ],
   "source": [
    "fig, (ax1, ax2, ax3) = plt.subplots(3, figsize=(14,9),sharex=True)\n",
    "fig.suptitle(\"Ridings Analyzed by Education\", fontsize=14, fontweight=\"light\")\n",
    "\n",
    "x_label_list = [[\"No Certificate\"], [\"Secondary School Diploma\"], \n",
    "                   [\"Non-university certificate or diploma\"], [\"University level or above\"]]\n",
    "\n",
    "box_plot_data=[NDP[\"No Certificate\"], NDP[\"Secondary School Diploma\"], \n",
    "                   NDP[\"Non-university certificate or diploma\"], NDP[\"University level or above\"]]\n",
    "\n",
    "box_plot_data2=[Conservative[\"No Certificate\"], Conservative[\"Secondary School Diploma\"], \n",
    "                   Conservative[\"Non-university certificate or diploma\"], Conservative[\"University level or above\"]]\n",
    "              \n",
    "box_plot_data3=[Liberal[\"No Certificate\"], Liberal[\"Secondary School Diploma\"], \n",
    "                   Liberal[\"Non-university certificate or diploma\"], Liberal[\"University level or above\"]]\n",
    "              \n",
    "ax.set_xticklabels(x_label_list)\n",
    "x=\"orange\"\n",
    "ax1.boxplot(box_plot_data, notch=True, patch_artist=True,\n",
    "            boxprops=dict(facecolor=x, color=x),\n",
    "            capprops=dict(color=x),\n",
    "            whiskerprops=dict(color=x),\n",
    "            flierprops=dict(color=x, markeredgecolor=x),\n",
    "            medianprops=dict(color=x))\n",
    "ax1.set_ylabel(\"NDP\")\n",
    "ax1.set_ylim([-5,75])\n",
    "y = \"blue\"\n",
    "ax2.boxplot(box_plot_data2, notch=True, patch_artist=True,\n",
    "            boxprops=dict(facecolor=y, color=y),\n",
    "            capprops=dict(color=y),\n",
    "            whiskerprops=dict(color=y),\n",
    "            flierprops=dict(color=y, markeredgecolor=y),\n",
    "            medianprops=dict(color=y))\n",
    "\n",
    "ax2.set_ylabel(\"Conservative\")\n",
    "ax2.set_ylim([-5,75])\n",
    "c = \"red\"\n",
    "ax3.boxplot(box_plot_data3, notch=True, patch_artist=True,\n",
    "            boxprops=dict(facecolor=c, color=c),\n",
    "            capprops=dict(color=c),\n",
    "            whiskerprops=dict(color=c),\n",
    "            flierprops=dict(color=c, markeredgecolor=c),\n",
    "            medianprops=dict(color=c))\n",
    "\n",
    "ax3.set_ylabel(\"Liberal\")\n",
    "ax3.set_xlabel(\"Age Groups\")\n",
    "ax3.set_ylim([-5,75])\n",
    "ax3.set_xticklabels(x_label_list)\n",
    "plt.savefig(\"./PNG_images_stats/Combined_Education.png\", transparent = True)\n",
    "plt.show()"
   ]
  },
  {
   "cell_type": "code",
   "execution_count": null,
   "metadata": {},
   "outputs": [],
   "source": []
  }
 ],
 "metadata": {
  "kernelspec": {
   "display_name": "Python 3",
   "language": "python",
   "name": "python3"
  },
  "language_info": {
   "codemirror_mode": {
    "name": "ipython",
    "version": 3
   },
   "file_extension": ".py",
   "mimetype": "text/x-python",
   "name": "python",
   "nbconvert_exporter": "python",
   "pygments_lexer": "ipython3",
   "version": "3.6.10"
  }
 },
 "nbformat": 4,
 "nbformat_minor": 4
}
